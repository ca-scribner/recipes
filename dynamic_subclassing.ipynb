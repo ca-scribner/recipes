{
 "cells": [
  {
   "cell_type": "markdown",
   "metadata": {},
   "source": [
    "# Dynamically make a subclass\n",
    "\n",
    "Quick recipe/example for making a subclass programmatically using type.  type can take 1 or three arguemnts.  \n",
    "* 1 argument usage is the typical \"what is your type\" query.  \n",
    "* 3 argument usage builds a subclass where the arguments are\n",
    "    * name of new subclass\n",
    "    * classes to inherrit from\n",
    "    * kwargs of everything to overwrite in the new class (could be both variables and methods)"
   ]
  },
  {
   "cell_type": "code",
   "execution_count": 40,
   "metadata": {},
   "outputs": [],
   "source": [
    "class BaseClass():\n",
    "    cv_parent = 1\n",
    "    \n",
    "    def __init__(self):\n",
    "        print(f\"init fired in {self.__class__}\")\n",
    "        \n",
    "    def f(self):\n",
    "        print(\"I'm from BaseClass!\")"
   ]
  },
  {
   "cell_type": "code",
   "execution_count": 41,
   "metadata": {},
   "outputs": [
    {
     "name": "stdout",
     "output_type": "stream",
     "text": [
      "init fired in <class '__main__.BaseClass'>\n",
      "1\n"
     ]
    }
   ],
   "source": [
    "bc = BaseClass()\n",
    "print(bc.cv_parent)"
   ]
  },
  {
   "cell_type": "code",
   "execution_count": 42,
   "metadata": {},
   "outputs": [],
   "source": [
    "subclass_name = \"MySubclass\"\n",
    "def f_replacement(self):\n",
    "    print(f\"I'm from {subclass_name}!\")\n",
    "subclass = type(subclass_name, (BaseClass, ), {'cv_subclass': 10, 'cv_parent': 2, 'f': f_replacement})\n"
   ]
  },
  {
   "cell_type": "code",
   "execution_count": 43,
   "metadata": {},
   "outputs": [
    {
     "name": "stdout",
     "output_type": "stream",
     "text": [
      "init fired in <class '__main__.MySubclass'>\n",
      "2\n",
      "10\n",
      "I'm from MySubclass!\n"
     ]
    }
   ],
   "source": [
    "sc = subclass()\n",
    "print(sc.cv_parent)\n",
    "print(sc.cv_subclass)\n",
    "sc.f()"
   ]
  }
 ],
 "metadata": {
  "kernelspec": {
   "display_name": "Python 3",
   "language": "python",
   "name": "python3"
  },
  "language_info": {
   "codemirror_mode": {
    "name": "ipython",
    "version": 3
   },
   "file_extension": ".py",
   "mimetype": "text/x-python",
   "name": "python",
   "nbconvert_exporter": "python",
   "pygments_lexer": "ipython3",
   "version": "3.7.4"
  }
 },
 "nbformat": 4,
 "nbformat_minor": 4
}
